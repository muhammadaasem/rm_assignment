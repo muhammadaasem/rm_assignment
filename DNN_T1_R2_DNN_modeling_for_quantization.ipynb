{
  "nbformat": 4,
  "nbformat_minor": 0,
  "metadata": {
    "colab": {
      "name": "DNN_T1_R2-DNN_modeling_for_quantization.ipynb",
      "provenance": [],
      "collapsed_sections": [],
      "toc_visible": true,
      "include_colab_link": true
    },
    "kernelspec": {
      "name": "python3",
      "display_name": "Python 3"
    }
  },
  "cells": [
    {
      "cell_type": "markdown",
      "metadata": {
        "id": "view-in-github",
        "colab_type": "text"
      },
      "source": [
        "<a href=\"https://colab.research.google.com/github/muhammadaasem/rm_assignment/blob/master/DNN_T1_R2_DNN_modeling_for_quantization.ipynb\" target=\"_parent\"><img src=\"https://colab.research.google.com/assets/colab-badge.svg\" alt=\"Open In Colab\"/></a>"
      ]
    },
    {
      "cell_type": "markdown",
      "metadata": {
        "id": "t2ClIs3o9Ntm",
        "colab_type": "text"
      },
      "source": [
        "# Implementing Quantization\n",
        "by Muhammad Aasem"
      ]
    },
    {
      "cell_type": "markdown",
      "metadata": {
        "id": "7osYgdGp9KGq",
        "colab_type": "text"
      },
      "source": [
        "file: DNN_T1_R1-DNN_modeling_for_quantization  \n",
        "# DNN Model\n",
        "steps:\n",
        "\n",
        "1.   import libraries\n",
        "2.   populate transet and testset from mnist dataset and normalize them\n",
        "3.   create the *model* with few layers\n",
        "4.   compile the model\n",
        "5.   evaluate the model with testset\n",
        "6.   check summary for parameters\n",
        "7.   save the model\n"
      ]
    },
    {
      "cell_type": "code",
      "metadata": {
        "id": "TsT1RsCXQ64x",
        "colab_type": "code",
        "outputId": "ec1b473e-902c-486e-98d6-9eb1dbdcbeb3",
        "colab": {
          "base_uri": "https://localhost:8080/",
          "height": 1000
        }
      },
      "source": [
        "from __future__ import absolute_import, division, print_function, unicode_literals\n",
        "\n",
        "import tensorflow as tf\n",
        "from tensorflow import keras\n",
        "\n",
        "print (\"Tensorflow version:\"+tf.__version__)\n",
        "\n",
        "def load_data():\n",
        "  print (\"\\nLoading Dataset:\")\n",
        "  (x_train, y_train), (x_test, y_test) = keras.datasets.mnist.load_data()\n",
        "  print (\"\\ttrain-set:\"+str(x_train.shape))\n",
        "  print (\"\\ttest-set:\"+str(x_test.shape))\n",
        "\n",
        "  x_train = x_train.astype('float32')\n",
        "  x_test = x_test.astype('float32')\n",
        "  print (\"\\ttrain and test sets astype: \"+'float32')\n",
        "\n",
        "  x_train, x_test = x_train / 255.0, x_test / 255.0\n",
        "  print (\"\\ttrain and test sets normalized: 255.0\")\n",
        "  return (x_train, y_train), (x_test, y_test)\n",
        "\n",
        "(x_train, y_train), (x_test, y_test) =load_data()\n",
        "\n",
        "def create_model():\n",
        "  print (\"model defined\")\n",
        "  model = keras.models.Sequential([\n",
        "    keras.layers.Flatten(input_shape=(28, 28)),\n",
        "    keras.layers.Dense(128, activation='relu'),\n",
        "    keras.layers.Dropout(0.2),\n",
        "    keras.layers.Dense(10, activation='softmax')\n",
        "  ])\n",
        "\n",
        "  print (\"model compiled\")\n",
        "  model.compile(optimizer='adam',\n",
        "              loss='sparse_categorical_crossentropy',\n",
        "              metrics=['accuracy'])\n",
        "  return model\n",
        "\n",
        "model=create_model()\n",
        "\n",
        "print (\"\\ncheckpoint defined\")\n",
        "model_checkpoint=tf.keras.callbacks.ModelCheckpoint('MNIST{epoch:02d}.h5',save_freq=3,save_weights_only=True)\n",
        "\n",
        "print (\"\\nmodel training...\")\n",
        "history = model.fit(x_train, y_train, epochs=5 )\n",
        "\n",
        "print (\"\\nModel Evaluation:\")\n",
        "model.evaluate(x_test,  y_test, verbose=2)\n",
        "\n",
        "print (\"\\nModel Summary:\")\n",
        "model.summary()\n",
        "\n",
        "print (\"\\nSaving the model\")\n",
        "model.save(filepath=\"model.h5\")\n",
        "model.save_weights(filepath=\"model_weights.h5\")\n",
        "with open(\"model.json\", \"w\") as json_file:\n",
        "    json_file.write(model.to_json())"
      ],
      "execution_count": 1,
      "outputs": [
        {
          "output_type": "display_data",
          "data": {
            "text/html": [
              "<p style=\"color: red;\">\n",
              "The default version of TensorFlow in Colab will soon switch to TensorFlow 2.x.<br>\n",
              "We recommend you <a href=\"https://www.tensorflow.org/guide/migrate\" target=\"_blank\">upgrade</a> now \n",
              "or ensure your notebook will continue to use TensorFlow 1.x via the <code>%tensorflow_version 1.x</code> magic:\n",
              "<a href=\"https://colab.research.google.com/notebooks/tensorflow_version.ipynb\" target=\"_blank\">more info</a>.</p>\n"
            ],
            "text/plain": [
              "<IPython.core.display.HTML object>"
            ]
          },
          "metadata": {
            "tags": []
          }
        },
        {
          "output_type": "stream",
          "text": [
            "Tensorflow version:1.15.0\n",
            "\n",
            "Loading Dataset:\n",
            "Downloading data from https://storage.googleapis.com/tensorflow/tf-keras-datasets/mnist.npz\n",
            "11493376/11490434 [==============================] - 0s 0us/step\n",
            "\ttrain-set:(60000, 28, 28)\n",
            "\ttest-set:(10000, 28, 28)\n",
            "\ttrain and test sets astype: float32\n",
            "\ttrain and test sets normalized: 255.0\n",
            "model defined\n",
            "WARNING:tensorflow:From /usr/local/lib/python3.6/dist-packages/tensorflow_core/python/ops/resource_variable_ops.py:1630: calling BaseResourceVariable.__init__ (from tensorflow.python.ops.resource_variable_ops) with constraint is deprecated and will be removed in a future version.\n",
            "Instructions for updating:\n",
            "If using Keras pass *_constraint arguments to layers.\n",
            "model compiled\n",
            "\n",
            "checkpoint defined\n",
            "\n",
            "model training...\n",
            "Train on 60000 samples\n",
            "Epoch 1/5\n",
            "60000/60000 [==============================] - 5s 78us/sample - loss: 0.2949 - acc: 0.9141\n",
            "Epoch 2/5\n",
            "60000/60000 [==============================] - 4s 73us/sample - loss: 0.1452 - acc: 0.9569\n",
            "Epoch 3/5\n",
            "60000/60000 [==============================] - 4s 72us/sample - loss: 0.1058 - acc: 0.9679\n",
            "Epoch 4/5\n",
            "60000/60000 [==============================] - 4s 71us/sample - loss: 0.0873 - acc: 0.9732\n",
            "Epoch 5/5\n",
            "60000/60000 [==============================] - 4s 70us/sample - loss: 0.0726 - acc: 0.9772\n",
            "\n",
            "Model Evaluation:\n",
            "10000/10000 - 0s - loss: 0.0774 - acc: 0.9756\n",
            "\n",
            "Model Summary:\n",
            "Model: \"sequential\"\n",
            "_________________________________________________________________\n",
            "Layer (type)                 Output Shape              Param #   \n",
            "=================================================================\n",
            "flatten (Flatten)            (None, 784)               0         \n",
            "_________________________________________________________________\n",
            "dense (Dense)                (None, 128)               100480    \n",
            "_________________________________________________________________\n",
            "dropout (Dropout)            (None, 128)               0         \n",
            "_________________________________________________________________\n",
            "dense_1 (Dense)              (None, 10)                1290      \n",
            "=================================================================\n",
            "Total params: 101,770\n",
            "Trainable params: 101,770\n",
            "Non-trainable params: 0\n",
            "_________________________________________________________________\n",
            "\n",
            "Saving the model\n"
          ],
          "name": "stdout"
        }
      ]
    },
    {
      "cell_type": "markdown",
      "metadata": {
        "id": "Kipi6fzQCq4K",
        "colab_type": "text"
      },
      "source": [
        "# Prediction using the model\n",
        "\n",
        "\n",
        "1.   choose any image from the test set\n",
        "2.   display the image\n",
        "3.   perform prediction\n",
        "4.   display the predicted value i.e., maximum indices\n",
        "\n"
      ]
    },
    {
      "cell_type": "code",
      "metadata": {
        "id": "V4w42S_CCufB",
        "colab_type": "code",
        "outputId": "42106000-d0ff-4ad5-a8ad-7061647d30f2",
        "colab": {
          "base_uri": "https://localhost:8080/",
          "height": 370
        }
      },
      "source": [
        "import matplotlib.pyplot as plt\n",
        "import numpy as np\n",
        "\n",
        "index= 1\n",
        "print (\"Making prediction for the image x_test[\"+str(index)+\"]..\")\n",
        "imgplot = plt.imshow(x_test[index])\n",
        "#model= tf.keras.models.load_model(\"model.h5\")\n",
        "predictions = model.predict(x_test)\n",
        "predicted_y=np.argmax(predictions[index])\n",
        "print (\"the value in the image: \"+ str(predicted_y))\n",
        "print (\"\\n\")\n",
        "print (predictions[index])\n",
        "fp32=predictions[index]"
      ],
      "execution_count": 2,
      "outputs": [
        {
          "output_type": "stream",
          "text": [
            "Making prediction for the image x_test[1]..\n",
            "the value in the image: 2\n",
            "\n",
            "\n",
            "[1.4405554e-08 2.7828713e-05 9.9989760e-01 7.3967836e-05 1.2786027e-12\n",
            " 9.9027147e-08 4.6167990e-08 5.5685903e-13 5.1189477e-07 4.1179972e-13]\n"
          ],
          "name": "stdout"
        },
        {
          "output_type": "display_data",
          "data": {
            "image/png": "[encoded data removed]",
            "text/plain": [
              "<Figure size 432x288 with 1 Axes>"
            ]
          },
          "metadata": {
            "tags": []
          }
        }
      ]
    },
    {
      "cell_type": "markdown",
      "metadata": {
        "id": "2OBTgS1ndvI7",
        "colab_type": "text"
      },
      "source": [
        "# Convert the model to tflite\n",
        "\n",
        "\n",
        "1.   Configure TFLiteConverter with loading the model from file\n",
        "2.   Convert the model\n",
        "3.   Save the model with .tflite\n"
      ]
    },
    {
      "cell_type": "code",
      "metadata": {
        "id": "B2F4lDnrD6Hm",
        "colab_type": "code",
        "outputId": "d167ee57-3b91-47eb-d507-26c74f0edfea",
        "colab": {
          "base_uri": "https://localhost:8080/",
          "height": 300
        }
      },
      "source": [
        "tflite_converter = tf.lite.TFLiteConverter.from_keras_model_file(\"model.h5\")\n",
        "tflite_model = tflite_converter.convert()\n",
        "open(\"tf_lite_model.tflite\", \"wb\").write(tflite_model)"
      ],
      "execution_count": 3,
      "outputs": [
        {
          "output_type": "stream",
          "text": [
            "WARNING:tensorflow:From /usr/local/lib/python3.6/dist-packages/tensorflow_core/python/ops/init_ops.py:97: calling GlorotUniform.__init__ (from tensorflow.python.ops.init_ops) with dtype is deprecated and will be removed in a future version.\n",
            "Instructions for updating:\n",
            "Call initializer instance with the dtype argument instead of passing it to the constructor\n",
            "WARNING:tensorflow:From /usr/local/lib/python3.6/dist-packages/tensorflow_core/python/ops/init_ops.py:97: calling Zeros.__init__ (from tensorflow.python.ops.init_ops) with dtype is deprecated and will be removed in a future version.\n",
            "Instructions for updating:\n",
            "Call initializer instance with the dtype argument instead of passing it to the constructor\n",
            "WARNING:tensorflow:From /usr/local/lib/python3.6/dist-packages/tensorflow_core/lite/python/util.py:249: convert_variables_to_constants (from tensorflow.python.framework.graph_util_impl) is deprecated and will be removed in a future version.\n",
            "Instructions for updating:\n",
            "Use `tf.compat.v1.graph_util.convert_variables_to_constants`\n",
            "WARNING:tensorflow:From /usr/local/lib/python3.6/dist-packages/tensorflow_core/python/framework/graph_util_impl.py:277: extract_sub_graph (from tensorflow.python.framework.graph_util_impl) is deprecated and will be removed in a future version.\n",
            "Instructions for updating:\n",
            "Use `tf.compat.v1.graph_util.extract_sub_graph`\n",
            "INFO:tensorflow:Froze 4 variables.\n",
            "INFO:tensorflow:Converted 4 variables to const ops.\n"
          ],
          "name": "stdout"
        },
        {
          "output_type": "execute_result",
          "data": {
            "text/plain": [
              "408224"
            ]
          },
          "metadata": {
            "tags": []
          },
          "execution_count": 3
        }
      ]
    },
    {
      "cell_type": "markdown",
      "metadata": {
        "id": "4RsLU7-Zf20V",
        "colab_type": "text"
      },
      "source": [
        "#  Perform *inference* with tflite model\n",
        "\n",
        "\n",
        "1.   Load TFLite model and allocate tensors\n",
        "2.   Get input and output tensors\n",
        "3.   Test model on random input data.\n",
        "4.   The function `get_tensor()` returns a copy of the tensor data. Use `tensor()` in order to get a pointer to the tensor.\n"
      ]
    },
    {
      "cell_type": "code",
      "metadata": {
        "id": "wcsUecVegREa",
        "colab_type": "code",
        "outputId": "3b165802-bd18-4dcc-a3bd-ef38c247ce3c",
        "colab": {
          "base_uri": "https://localhost:8080/",
          "height": 338
        }
      },
      "source": [
        "import numpy as np\n",
        "import tensorflow as tf\n",
        "\n",
        "# Load TFLite model and allocate tensors.\n",
        "interpreter = tf.lite.Interpreter(model_path=\"tf_lite_model.tflite\")\n",
        "interpreter.allocate_tensors()\n",
        "\n",
        "# Get input and output tensors.\n",
        "input_details = interpreter.get_input_details()\n",
        "output_details = interpreter.get_output_details()\n",
        "\n",
        "# Test model on random input data.\n",
        "#index=1\n",
        "input_shape = input_details[0]['shape']\n",
        "input_data = np.array (x_test[index:index+1:1], dtype=np.float32)\n",
        "\n",
        "#input_data = np.array(np.random.random_sample(input_shape), dtype=np.float32)\n",
        "#interpreter.set_tensor(input_details[0]['index'], input_data)\n",
        "interpreter.set_tensor(input_details[0]['index'], input_data)\n",
        "interpreter.invoke()\n",
        "\n",
        "# The function `get_tensor()` returns a copy of the tensor data.\n",
        "# Use `tensor()` in order to get a pointer to the tensor.\n",
        "output_data = interpreter.get_tensor(output_details[0]['index'])\n",
        "print(output_data)\n",
        "\n",
        "predicted_yy=np.argmax(output_data)\n",
        "print (\"the value in the image: \"+ str(predicted_yy))\n",
        "\n",
        "imgplot = plt.imshow(x_test[index])"
      ],
      "execution_count": 4,
      "outputs": [
        {
          "output_type": "stream",
          "text": [
            "[[1.4405554e-08 2.7828739e-05 9.9989760e-01 7.3967691e-05 1.2786027e-12\n",
            "  9.9027147e-08 4.6167990e-08 5.5685903e-13 5.1189323e-07 4.1179888e-13]]\n",
            "the value in the image: 2\n"
          ],
          "name": "stdout"
        },
        {
          "output_type": "display_data",
          "data": {
            "image/png": "[encoded data removed]",
            "text/plain": [
              "<Figure size 432x288 with 1 Axes>"
            ]
          },
          "metadata": {
            "tags": []
          }
        }
      ]
    },
    {
      "cell_type": "markdown",
      "metadata": {
        "id": "hcq_X-Ug4B3J",
        "colab_type": "text"
      },
      "source": [
        "# Conversion 1: Hybrid/Weight quantization\n",
        "\n",
        "*   Quantizes only the weights from floating point to 8-bits of precision\n",
        "*   At inference, weights are converted from 8-bits of precision to floating point and computed using floating-point kernels. This conversion is done once and cached to reduce latency\n",
        "*   To further improve latency, hybrid operators dynamically quantize activations to 8-bits and perform computations with 8-bit weights and activations. This optimization provides latencies close to fully fixed-point inference. However, the outputs are still stored using floating point, so that the speedup with hybrid ops is less than a full fixed-point computation"
      ]
    },
    {
      "cell_type": "code",
      "metadata": {
        "id": "aE8UK0mT4EOd",
        "colab_type": "code",
        "outputId": "9f0152af-7984-4720-fa99-2bc17526bc55",
        "colab": {
          "base_uri": "https://localhost:8080/",
          "height": 70
        }
      },
      "source": [
        "converter = tf.lite.TFLiteConverter.from_keras_model_file(\"model.h5\")\n",
        "converter.optimizations = [tf.lite.Optimize.OPTIMIZE_FOR_SIZE]\n",
        "tflite_quant_model = converter.convert()\n",
        "\n",
        "open(\"tf_lite_model_quant.tflite\", \"wb\").write(tflite_quant_model)"
      ],
      "execution_count": 5,
      "outputs": [
        {
          "output_type": "stream",
          "text": [
            "INFO:tensorflow:Froze 4 variables.\n",
            "INFO:tensorflow:Converted 4 variables to const ops.\n"
          ],
          "name": "stdout"
        },
        {
          "output_type": "execute_result",
          "data": {
            "text/plain": [
              "103416"
            ]
          },
          "metadata": {
            "tags": []
          },
          "execution_count": 5
        }
      ]
    },
    {
      "cell_type": "code",
      "metadata": {
        "id": "pIpv3avL4WX0",
        "colab_type": "code",
        "outputId": "2719cc5c-9a87-4a74-9590-ee114485b1d7",
        "colab": {
          "base_uri": "https://localhost:8080/",
          "height": 338
        }
      },
      "source": [
        "import numpy as np\n",
        "import tensorflow as tf\n",
        "\n",
        "# Load TFLite model and allocate tensors.\n",
        "interpreter = tf.lite.Interpreter(model_path=\"tf_lite_model_quant.tflite\")\n",
        "interpreter.allocate_tensors()\n",
        "\n",
        "# Get input and output tensors.\n",
        "input_details = interpreter.get_input_details()\n",
        "output_details = interpreter.get_output_details()\n",
        "\n",
        "# Test model on random input data.\n",
        "#index=1\n",
        "input_shape = input_details[0]['shape']\n",
        "input_data = np.array (x_test[index:index+1:1], dtype=np.float32)\n",
        "\n",
        "#input_data = np.array(np.random.random_sample(input_shape), dtype=np.float32)\n",
        "#interpreter.set_tensor(input_details[0]['index'], input_data)\n",
        "interpreter.set_tensor(input_details[0]['index'], input_data)\n",
        "interpreter.invoke()\n",
        "\n",
        "# The function `get_tensor()` returns a copy of the tensor data.\n",
        "# Use `tensor()` in order to get a pointer to the tensor.\n",
        "output_data = interpreter.get_tensor(output_details[0]['index'])\n",
        "print(output_data)\n",
        "fp08=output_data\n",
        "\n",
        "predicted_yy=np.argmax(output_data)\n",
        "print (\"the value in the image: \"+ str(predicted_yy))\n",
        "\n",
        "imgplot = plt.imshow(x_test[index])"
      ],
      "execution_count": 6,
      "outputs": [
        {
          "output_type": "stream",
          "text": [
            "[[1.8473980e-08 2.8176941e-05 9.9988675e-01 8.4316132e-05 1.3789868e-12\n",
            "  1.0216443e-07 4.8874139e-08 6.1580656e-13 5.9410428e-07 4.5621064e-13]]\n",
            "the value in the image: 2\n"
          ],
          "name": "stdout"
        },
        {
          "output_type": "display_data",
          "data": {
            "image/png": "[encoded data removed]",
            "text/plain": [
              "<Figure size 432x288 with 1 Axes>"
            ]
          },
          "metadata": {
            "tags": []
          }
        }
      ]
    },
    {
      "cell_type": "markdown",
      "metadata": {
        "id": "vdWR3ESfugqq",
        "colab_type": "text"
      },
      "source": [
        "## Results"
      ]
    },
    {
      "cell_type": "code",
      "metadata": {
        "id": "kgV7uzO_ud-s",
        "colab_type": "code",
        "colab": {
          "base_uri": "https://localhost:8080/",
          "height": 52
        },
        "outputId": "ed9baebf-ed87-4af0-ada0-db3766aec324"
      },
      "source": [
        "print (fp32)"
      ],
      "execution_count": 7,
      "outputs": [
        {
          "output_type": "stream",
          "text": [
            "[1.4405554e-08 2.7828713e-05 9.9989760e-01 7.3967836e-05 1.2786027e-12\n",
            " 9.9027147e-08 4.6167990e-08 5.5685903e-13 5.1189477e-07 4.1179972e-13]\n"
          ],
          "name": "stdout"
        }
      ]
    },
    {
      "cell_type": "code",
      "metadata": {
        "id": "O-Ps5kYT5Fhc",
        "colab_type": "code",
        "colab": {
          "base_uri": "https://localhost:8080/",
          "height": 52
        },
        "outputId": "f5d02282-6976-4908-d243-43fc320ac11e"
      },
      "source": [
        "fp8=fp08.ravel()\n",
        "print (fp8)"
      ],
      "execution_count": 8,
      "outputs": [
        {
          "output_type": "stream",
          "text": [
            "[1.8473980e-08 2.8176941e-05 9.9988675e-01 8.4316132e-05 1.3789868e-12\n",
            " 1.0216443e-07 4.8874139e-08 6.1580656e-13 5.9410428e-07 4.5621064e-13]\n"
          ],
          "name": "stdout"
        }
      ]
    },
    {
      "cell_type": "code",
      "metadata": {
        "id": "9zGk03Yhumpx",
        "colab_type": "code",
        "colab": {
          "base_uri": "https://localhost:8080/",
          "height": 70
        },
        "outputId": "bf1a9cbd-d790-4db9-936e-60f3d0e2ec17"
      },
      "source": [
        "diff=fp32-fp8\n",
        "print (diff)"
      ],
      "execution_count": 9,
      "outputs": [
        {
          "output_type": "stream",
          "text": [
            "[-4.0684256e-09 -3.4822733e-07  1.0848045e-05 -1.0348296e-05\n",
            " -1.0038411e-13 -3.1372807e-09 -2.7061482e-09 -5.8947530e-14\n",
            " -8.2209510e-08 -4.4410927e-14]\n"
          ],
          "name": "stdout"
        }
      ]
    },
    {
      "cell_type": "code",
      "metadata": {
        "id": "whrAkBJE4ime",
        "colab_type": "code",
        "colab": {
          "base_uri": "https://localhost:8080/",
          "height": 192
        },
        "outputId": "b024157d-a9d5-4473-feb8-644f07ac543a"
      },
      "source": [
        "#print (format(9.9938798e-01 , 'f'))\n",
        "\n",
        "diff_f = ['{:f}'.format(item) for item in diff]\n",
        "diff_f"
      ],
      "execution_count": 10,
      "outputs": [
        {
          "output_type": "execute_result",
          "data": {
            "text/plain": [
              "['-0.000000',\n",
              " '-0.000000',\n",
              " '0.000011',\n",
              " '-0.000010',\n",
              " '-0.000000',\n",
              " '-0.000000',\n",
              " '-0.000000',\n",
              " '-0.000000',\n",
              " '-0.000000',\n",
              " '-0.000000']"
            ]
          },
          "metadata": {
            "tags": []
          },
          "execution_count": 10
        }
      ]
    },
    {
      "cell_type": "code",
      "metadata": {
        "id": "PqrtKclXu88a",
        "colab_type": "code",
        "colab": {
          "base_uri": "https://localhost:8080/",
          "height": 52
        },
        "outputId": "e4f81241-771c-4912-e8e4-b69e6e4885db"
      },
      "source": [
        "print (\"Std: \" +str(np.std(diff)) )\n",
        "print (\"Var: \"+ str(np.var(diff)) )"
      ],
      "execution_count": 11,
      "outputs": [
        {
          "output_type": "stream",
          "text": [
            "Std: 4.74231e-06\n",
            "Var: 2.2489503e-11\n"
          ],
          "name": "stdout"
        }
      ]
    },
    {
      "cell_type": "code",
      "metadata": {
        "id": "_wc1AlndvTn5",
        "colab_type": "code",
        "colab": {
          "base_uri": "https://localhost:8080/",
          "height": 295
        },
        "outputId": "6f2b2306-3ff0-4758-d18a-b0d4d32ece18"
      },
      "source": [
        "\n",
        "x = np.linspace(0, 9, 10)\n",
        "plt.plot(x, fp32, label='fp32')\n",
        "plt.plot(x, fp8, label='fp08')\n",
        "\n",
        "\n",
        "plt.xlabel('x label')\n",
        "plt.ylabel('y label')\n",
        "\n",
        "plt.title(\"Quantized\")\n",
        "\n",
        "plt.legend()\n",
        "\n",
        "plt.show()"
      ],
      "execution_count": 12,
      "outputs": [
        {
          "output_type": "display_data",
          "data": {
            "image/png": "[encoded data removed]",
            "text/plain": [
              "<Figure size 432x288 with 1 Axes>"
            ]
          },
          "metadata": {
            "tags": []
          }
        }
      ]
    },
    {
      "cell_type": "markdown",
      "metadata": {
        "id": "FG3vjy6qOhIL",
        "colab_type": "text"
      },
      "source": [
        "# References:\n",
        "[1]  https://www.tensorflow.org/lite/performance/post_training_quantization"
      ]
    }
  ]
}